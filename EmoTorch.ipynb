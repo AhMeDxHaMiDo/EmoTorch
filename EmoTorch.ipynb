{
  "nbformat": 4,
  "nbformat_minor": 0,
  "metadata": {
    "accelerator": "GPU",
    "colab": {
      "name": "EmoTorch.ipynb",
      "provenance": [],
      "collapsed_sections": []
    },
    "kernelspec": {
      "name": "python3",
      "display_name": "Python 3"
    },
    "language_info": {
      "codemirror_mode": {
        "name": "ipython",
        "version": 3
      },
      "file_extension": ".py",
      "mimetype": "text/x-python",
      "name": "python",
      "nbconvert_exporter": "python",
      "pygments_lexer": "ipython3",
      "version": "3.7.5"
    },
    "widgets": {
      "application/vnd.jupyter.widget-state+json": {
        "9962444a6b8a4a598487c897865c8a1e": {
          "model_module": "@jupyter-widgets/controls",
          "model_name": "HBoxModel",
          "state": {
            "_view_name": "HBoxView",
            "_dom_classes": [],
            "_model_name": "HBoxModel",
            "_view_module": "@jupyter-widgets/controls",
            "_model_module_version": "1.5.0",
            "_view_count": null,
            "_view_module_version": "1.5.0",
            "box_style": "",
            "layout": "IPY_MODEL_f23e4e2c26bb465c816f91509cd74a2e",
            "_model_module": "@jupyter-widgets/controls",
            "children": [
              "IPY_MODEL_1da5159193474b40bf32462c17e22ee9",
              "IPY_MODEL_0468895edfb54f1b8d049164fb0047a8"
            ]
          }
        },
        "f23e4e2c26bb465c816f91509cd74a2e": {
          "model_module": "@jupyter-widgets/base",
          "model_name": "LayoutModel",
          "state": {
            "_view_name": "LayoutView",
            "grid_template_rows": null,
            "right": null,
            "justify_content": null,
            "_view_module": "@jupyter-widgets/base",
            "overflow": null,
            "_model_module_version": "1.2.0",
            "_view_count": null,
            "flex_flow": null,
            "width": null,
            "min_width": null,
            "border": null,
            "align_items": null,
            "bottom": null,
            "_model_module": "@jupyter-widgets/base",
            "top": null,
            "grid_column": null,
            "overflow_y": null,
            "overflow_x": null,
            "grid_auto_flow": null,
            "grid_area": null,
            "grid_template_columns": null,
            "flex": null,
            "_model_name": "LayoutModel",
            "justify_items": null,
            "grid_row": null,
            "max_height": null,
            "align_content": null,
            "visibility": null,
            "align_self": null,
            "height": null,
            "min_height": null,
            "padding": null,
            "grid_auto_rows": null,
            "grid_gap": null,
            "max_width": null,
            "order": null,
            "_view_module_version": "1.2.0",
            "grid_template_areas": null,
            "object_position": null,
            "object_fit": null,
            "grid_auto_columns": null,
            "margin": null,
            "display": null,
            "left": null
          }
        },
        "1da5159193474b40bf32462c17e22ee9": {
          "model_module": "@jupyter-widgets/controls",
          "model_name": "IntProgressModel",
          "state": {
            "_view_name": "ProgressView",
            "style": "IPY_MODEL_c7550c27df3840a5973e9b4e6dcb3d8b",
            "_dom_classes": [],
            "description": "",
            "_model_name": "IntProgressModel",
            "bar_style": "success",
            "max": 574673361,
            "_view_module": "@jupyter-widgets/controls",
            "_model_module_version": "1.5.0",
            "value": 574673361,
            "_view_count": null,
            "_view_module_version": "1.5.0",
            "orientation": "horizontal",
            "min": 0,
            "description_tooltip": null,
            "_model_module": "@jupyter-widgets/controls",
            "layout": "IPY_MODEL_a4318ca5303b45ee94687fcde53b901d"
          }
        },
        "0468895edfb54f1b8d049164fb0047a8": {
          "model_module": "@jupyter-widgets/controls",
          "model_name": "HTMLModel",
          "state": {
            "_view_name": "HTMLView",
            "style": "IPY_MODEL_6d055e52244442ada687a7eb499f2daa",
            "_dom_classes": [],
            "description": "",
            "_model_name": "HTMLModel",
            "placeholder": "​",
            "_view_module": "@jupyter-widgets/controls",
            "_model_module_version": "1.5.0",
            "value": "100% 548M/548M [00:07&lt;00:00, 81.0MB/s]",
            "_view_count": null,
            "_view_module_version": "1.5.0",
            "description_tooltip": null,
            "_model_module": "@jupyter-widgets/controls",
            "layout": "IPY_MODEL_e4aafdb3e2ca49598f4b92183215e5f8"
          }
        },
        "c7550c27df3840a5973e9b4e6dcb3d8b": {
          "model_module": "@jupyter-widgets/controls",
          "model_name": "ProgressStyleModel",
          "state": {
            "_view_name": "StyleView",
            "_model_name": "ProgressStyleModel",
            "description_width": "",
            "_view_module": "@jupyter-widgets/base",
            "_model_module_version": "1.5.0",
            "_view_count": null,
            "_view_module_version": "1.2.0",
            "bar_color": null,
            "_model_module": "@jupyter-widgets/controls"
          }
        },
        "a4318ca5303b45ee94687fcde53b901d": {
          "model_module": "@jupyter-widgets/base",
          "model_name": "LayoutModel",
          "state": {
            "_view_name": "LayoutView",
            "grid_template_rows": null,
            "right": null,
            "justify_content": null,
            "_view_module": "@jupyter-widgets/base",
            "overflow": null,
            "_model_module_version": "1.2.0",
            "_view_count": null,
            "flex_flow": null,
            "width": null,
            "min_width": null,
            "border": null,
            "align_items": null,
            "bottom": null,
            "_model_module": "@jupyter-widgets/base",
            "top": null,
            "grid_column": null,
            "overflow_y": null,
            "overflow_x": null,
            "grid_auto_flow": null,
            "grid_area": null,
            "grid_template_columns": null,
            "flex": null,
            "_model_name": "LayoutModel",
            "justify_items": null,
            "grid_row": null,
            "max_height": null,
            "align_content": null,
            "visibility": null,
            "align_self": null,
            "height": null,
            "min_height": null,
            "padding": null,
            "grid_auto_rows": null,
            "grid_gap": null,
            "max_width": null,
            "order": null,
            "_view_module_version": "1.2.0",
            "grid_template_areas": null,
            "object_position": null,
            "object_fit": null,
            "grid_auto_columns": null,
            "margin": null,
            "display": null,
            "left": null
          }
        },
        "6d055e52244442ada687a7eb499f2daa": {
          "model_module": "@jupyter-widgets/controls",
          "model_name": "DescriptionStyleModel",
          "state": {
            "_view_name": "StyleView",
            "_model_name": "DescriptionStyleModel",
            "description_width": "",
            "_view_module": "@jupyter-widgets/base",
            "_model_module_version": "1.5.0",
            "_view_count": null,
            "_view_module_version": "1.2.0",
            "_model_module": "@jupyter-widgets/controls"
          }
        },
        "e4aafdb3e2ca49598f4b92183215e5f8": {
          "model_module": "@jupyter-widgets/base",
          "model_name": "LayoutModel",
          "state": {
            "_view_name": "LayoutView",
            "grid_template_rows": null,
            "right": null,
            "justify_content": null,
            "_view_module": "@jupyter-widgets/base",
            "overflow": null,
            "_model_module_version": "1.2.0",
            "_view_count": null,
            "flex_flow": null,
            "width": null,
            "min_width": null,
            "border": null,
            "align_items": null,
            "bottom": null,
            "_model_module": "@jupyter-widgets/base",
            "top": null,
            "grid_column": null,
            "overflow_y": null,
            "overflow_x": null,
            "grid_auto_flow": null,
            "grid_area": null,
            "grid_template_columns": null,
            "flex": null,
            "_model_name": "LayoutModel",
            "justify_items": null,
            "grid_row": null,
            "max_height": null,
            "align_content": null,
            "visibility": null,
            "align_self": null,
            "height": null,
            "min_height": null,
            "padding": null,
            "grid_auto_rows": null,
            "grid_gap": null,
            "max_width": null,
            "order": null,
            "_view_module_version": "1.2.0",
            "grid_template_areas": null,
            "object_position": null,
            "object_fit": null,
            "grid_auto_columns": null,
            "margin": null,
            "display": null,
            "left": null
          }
        }
      }
    }
  },
  "cells": [
    {
      "cell_type": "markdown",
      "metadata": {
        "id": "wSNWFKWbz_HS",
        "colab_type": "text"
      },
      "source": [
        "# Facial Emotion Recognition for a Recommendation System\n",
        "\n",
        "---"
      ]
    },
    {
      "cell_type": "markdown",
      "metadata": {
        "id": "88nAX1uC0EO1",
        "colab_type": "text"
      },
      "source": [
        "![](https://drive.google.com/uc?id=1OqQd7Kc0Sjs0cMv8EZtqtIsO4pI7lOWB)"
      ]
    },
    {
      "cell_type": "markdown",
      "metadata": {
        "id": "O6IxM9ih0MmQ",
        "colab_type": "text"
      },
      "source": [
        "### [Facebook F8 AI Hackathon 2020](https://fbai1.devpost.com/?ref_feature=challenge&ref_medium=home)\n",
        "[Project Home](https://devpost.com/software/emotion-recognition-for-a-recommender-system)\n",
        "\n",
        "### Contributors:\n",
        "- [Nathan Curtis](https://github.com/njcurtis3)\n",
        "- [Yashika Sharma](https://github.com/yashika51)\n",
        "- [Ahmed Hamido](https://github.com/AhMeDxHaMiDo)\n",
        "\n",
        "Special thanks to [Mahdi Ashraf](https://github.com/MahdiAshraf)\n",
        "\n",
        "\n",
        "\n",
        "\n",
        "---\n",
        "\n"
      ]
    },
    {
      "cell_type": "markdown",
      "metadata": {
        "id": "gHWHPznhkttN",
        "colab_type": "text"
      },
      "source": [
        "# [**FER-2013 Dataset**](https://datarepository.wolframcloud.com/resources/FER-2013)\n",
        "The Facial Expression Recognition 2013 (FER-2013) Dataset\n",
        "\n",
        "Originator: Pierre-Luc Carrier and Aaron Courville\n",
        "\n",
        "The data consists of 48x48 pixel grayscale images of faces. The faces have been automatically registered so that the face is more or less centered and occupies about the same amount of space in each image. The task is to categorize each face based on the emotion shown in the facial expression in to one of seven categories (0=Angry, 1=Disgust, 2=Fear, 3=Happy, 4=Sad, 5=Surprise, 6=Neutral).\n",
        "\n",
        "Train.csv contains two columns, \"emotion\" and \"pixels\". The \"emotion\" column contains a numeric code ranging from 0 to 6, inclusive, for the emotion that is present in the image. The \"pixels\" column contains a string surrounded in quotes for each image. The contents of this string are space-separated pixel values in row major order. test.csv contains only the \"pixels\" colum.\n",
        "\n",
        "![](https://drive.google.com/uc?id=18ILChS02OWAUtMHkWDsQhHJ1IyNnA43R)\n",
        "\n",
        "**Our task is to predict the emotion column.**\n",
        "\n",
        "Training set: \n",
        "- 28,709 examples. \n",
        "\n",
        "Test set:   \n",
        "- 3,589 examples. \n",
        "\n",
        "Validation set:\n",
        "- 3,589 examples.\n",
        "\n",
        "*This dataset was prepared by Pierre-Luc Carrier and Aaron Courville, as part of an ongoing research project.*\n",
        "\n"
      ]
    },
    {
      "cell_type": "markdown",
      "metadata": {
        "id": "5AyQOf9e1uB3",
        "colab_type": "text"
      },
      "source": [
        "### Sample Distribution\n",
        "\n",
        "![](https://drive.google.com/uc?id=13qX5l-LhNDATOos-n4xSBr1WkvnmZzEW)"
      ]
    },
    {
      "cell_type": "markdown",
      "metadata": {
        "id": "owQ_CuWS19gr",
        "colab_type": "text"
      },
      "source": [
        "\n",
        "\n",
        "---\n",
        "\n"
      ]
    },
    {
      "cell_type": "markdown",
      "metadata": {
        "id": "xjGLcskZ1_l1",
        "colab_type": "text"
      },
      "source": [
        "# Setup"
      ]
    },
    {
      "cell_type": "markdown",
      "metadata": {
        "id": "4_cSflt914gR",
        "colab_type": "text"
      },
      "source": [
        "### Mount Google Drive"
      ]
    },
    {
      "cell_type": "code",
      "metadata": {
        "colab_type": "code",
        "id": "UG9PgwBAgsJL",
        "outputId": "6d186c15-21a4-479d-d2fa-4d134079de09",
        "colab": {
          "base_uri": "https://localhost:8080/",
          "height": 121
        }
      },
      "source": [
        "# Mounting your google drive in order to download & load the dataset and save the trained model.\n",
        "from google.colab import drive\n",
        "drive.mount('/content/gdrive')"
      ],
      "execution_count": 0,
      "outputs": [
        {
          "output_type": "stream",
          "text": [
            "Go to this URL in a browser: https://accounts.google.com/o/oauth2/auth?client_id=947318989803-6bn6qk8qdgf4n4g3pfee6491hc0brc4i.apps.googleusercontent.com&redirect_uri=urn%3aietf%3awg%3aoauth%3a2.0%3aoob&response_type=code&scope=email%20https%3a%2f%2fwww.googleapis.com%2fauth%2fdocs.test%20https%3a%2f%2fwww.googleapis.com%2fauth%2fdrive%20https%3a%2f%2fwww.googleapis.com%2fauth%2fdrive.photos.readonly%20https%3a%2f%2fwww.googleapis.com%2fauth%2fpeopleapi.readonly\n",
            "\n",
            "Enter your authorization code:\n",
            "··········\n",
            "Mounted at /content/gdrive\n"
          ],
          "name": "stdout"
        }
      ]
    },
    {
      "cell_type": "markdown",
      "metadata": {
        "id": "oNJjH19a32VZ",
        "colab_type": "text"
      },
      "source": [
        "### [Kaggle API](https://github.com/Kaggle/kaggle-api#kaggle-api)\n",
        "\n",
        "Further Help: [GitHub - API credentials](https://github.com/Kaggle/kaggle-api#api-credentials)\n",
        "\n",
        "To use the Kaggle API, sign up for a Kaggle account at https://www.kaggle.com. Then go to the 'Account' tab of your user profile `(https://www.kaggle.com/<username>/account)` and select 'Create API Token'. This will trigger the download of `kaggle.json`, a file containing your API credentials. Place this file in the location `~/.kaggle/kaggle.json` (on Windows in the location `C:\\Users\\<Windows-username>\\.kaggle\\kaggle.json` - you can check the exact location, sans drive, with echo `%HOMEPATH%`). You can define a shell environment variable `KAGGLE_CONFIG_DIR` to change this location to `$KAGGLE_CONFIG_DIR/kaggle.json` (on Windows it will be `%KAGGLE_CONFIG_DIR%\\kaggle.json`).\n",
        "\n",
        "For your security, ensure that other users of your computer do not have read access to your credentials. On Unix-based systems you can do this with the following command:\n",
        "\n",
        "`chmod 600 ~/.kaggle/kaggle.json`\n",
        "\n",
        "You can also choose to export your Kaggle username and token to the environment:\n",
        "\n",
        "`export KAGGLE_USERNAME=datadinosaur`\n",
        "\n",
        "`export KAGGLE_KEY=xxxxxxxxxxxxxx`\n",
        "\n",
        "In addition, you can export any other configuration value that normally would be in the `$HOME/.kaggle/kaggle.json` in the format 'KAGGLE_' (note uppercase).\n",
        "For example, if the file had the variable \"proxy\" you would export `KAGGLE_PROXY` and it would be discovered by the client."
      ]
    },
    {
      "cell_type": "code",
      "metadata": {
        "colab_type": "code",
        "id": "w8d-2EXKgurX",
        "colab": {}
      },
      "source": [
        "# Upload your Kaggle API in order to download the required dataset.\n",
        "from google.colab import files\n",
        "files.upload()  #this will prompt you to upload the kaggle.json"
      ],
      "execution_count": 0,
      "outputs": []
    },
    {
      "cell_type": "markdown",
      "metadata": {
        "id": "6q_ra7C56VIU",
        "colab_type": "text"
      },
      "source": [
        "Installs a version of the Kaggle API package"
      ]
    },
    {
      "cell_type": "code",
      "metadata": {
        "colab_type": "code",
        "id": "ppaGTik-pbwl",
        "outputId": "1c357f62-0639-4bf7-f7f1-223010fbe394",
        "colab": {
          "base_uri": "https://localhost:8080/",
          "height": 202
        }
      },
      "source": [
        "# installing kaggle package.\n",
        "\n",
        "!pip install kaggle==1.5.6"
      ],
      "execution_count": 0,
      "outputs": [
        {
          "output_type": "stream",
          "text": [
            "Requirement already satisfied: kaggle==1.5.6 in /usr/local/lib/python3.6/dist-packages (1.5.6)\n",
            "Requirement already satisfied: tqdm in /usr/local/lib/python3.6/dist-packages (from kaggle==1.5.6) (4.28.1)\n",
            "Requirement already satisfied: python-slugify in /usr/local/lib/python3.6/dist-packages (from kaggle==1.5.6) (4.0.0)\n",
            "Requirement already satisfied: requests in /usr/local/lib/python3.6/dist-packages (from kaggle==1.5.6) (2.21.0)\n",
            "Requirement already satisfied: urllib3<1.25,>=1.21.1 in /usr/local/lib/python3.6/dist-packages (from kaggle==1.5.6) (1.24.3)\n",
            "Requirement already satisfied: six>=1.10 in /usr/local/lib/python3.6/dist-packages (from kaggle==1.5.6) (1.12.0)\n",
            "Requirement already satisfied: certifi in /usr/local/lib/python3.6/dist-packages (from kaggle==1.5.6) (2019.11.28)\n",
            "Requirement already satisfied: python-dateutil in /usr/local/lib/python3.6/dist-packages (from kaggle==1.5.6) (2.6.1)\n",
            "Requirement already satisfied: text-unidecode>=1.3 in /usr/local/lib/python3.6/dist-packages (from python-slugify->kaggle==1.5.6) (1.3)\n",
            "Requirement already satisfied: chardet<3.1.0,>=3.0.2 in /usr/local/lib/python3.6/dist-packages (from requests->kaggle==1.5.6) (3.0.4)\n",
            "Requirement already satisfied: idna<2.9,>=2.5 in /usr/local/lib/python3.6/dist-packages (from requests->kaggle==1.5.6) (2.8)\n"
          ],
          "name": "stdout"
        }
      ]
    },
    {
      "cell_type": "code",
      "metadata": {
        "colab_type": "code",
        "id": "smUuBoViguz8",
        "outputId": "98114653-73f1-49e7-bb08-784f6ff89c30",
        "colab": {
          "base_uri": "https://localhost:8080/",
          "height": 34
        }
      },
      "source": [
        "# Preparing the API for downloading\n",
        "!mkdir -p ~/.kaggle\n",
        "!cp kaggle.json ~/.kaggle/\n",
        "!ls ~/.kaggle\n",
        "!chmod 600 /root/.kaggle/kaggle.json  # set permission"
      ],
      "execution_count": 0,
      "outputs": [
        {
          "output_type": "stream",
          "text": [
            "kaggle.json\n"
          ],
          "name": "stdout"
        }
      ]
    },
    {
      "cell_type": "markdown",
      "metadata": {
        "id": "l6yA-n1m6hL9",
        "colab_type": "text"
      },
      "source": [
        "The API call accesses a past Kaggle competition called [Challenges in Representation Learning: Facial Expression Recognition Challenge](https://www.kaggle.com/c/challenges-in-representation-learning-facial-expression-recognition-challenge)"
      ]
    },
    {
      "cell_type": "code",
      "metadata": {
        "colab_type": "code",
        "id": "Hakf8W93guxm",
        "outputId": "a4a8c537-35f1-4d6d-9fbc-965844280410",
        "colab": {
          "base_uri": "https://localhost:8080/",
          "height": 34
        }
      },
      "source": [
        "# Download 'face-expression-recognition-dataset' datset from Kaggle datsets in 'Colab Notebooks' directory.\n",
        "!kaggle datasets download jonathanoheix/face-expression-recognition-dataset -p /content/gdrive/My\\ Drive/Colab\\ Notebooks"
      ],
      "execution_count": 0,
      "outputs": [
        {
          "output_type": "stream",
          "text": [
            "face-expression-recognition-dataset.zip: Skipping, found more recently modified local copy (use --force to force download)\n"
          ],
          "name": "stdout"
        }
      ]
    },
    {
      "cell_type": "code",
      "metadata": {
        "colab_type": "code",
        "id": "f9BwCQd9WSTj",
        "colab": {}
      },
      "source": [
        "# Unzipping the downloaded file from Kaggle which contains the data.\n",
        "img = !unzip /content/gdrive/My\\ Drive/Colab\\ Notebooks/face-expression-recognition-dataset.zip"
      ],
      "execution_count": 0,
      "outputs": []
    },
    {
      "cell_type": "markdown",
      "metadata": {
        "id": "yB74oWlarNU1",
        "colab_type": "text"
      },
      "source": [
        "### Preparing the dataset for training and validation"
      ]
    },
    {
      "cell_type": "code",
      "metadata": {
        "colab_type": "code",
        "id": "69Oc_h52XIir",
        "colab": {}
      },
      "source": [
        "import shutil\n",
        "shutil.rmtree('/content/images/images')"
      ],
      "execution_count": 0,
      "outputs": []
    },
    {
      "cell_type": "code",
      "metadata": {
        "id": "eDUpgkiXc0Sg",
        "colab_type": "code",
        "colab": {}
      },
      "source": [
        "mv /content/images/validation /content/images/valid"
      ],
      "execution_count": 0,
      "outputs": []
    },
    {
      "cell_type": "code",
      "metadata": {
        "id": "ope8r57RbYwg",
        "colab_type": "code",
        "outputId": "6fc5e846-c28a-495a-deab-a45566f88514",
        "colab": {
          "base_uri": "https://localhost:8080/",
          "height": 134
        }
      },
      "source": [
        "import numpy as np\n",
        "classes = ['angry', 'disgust', 'fear', 'happy', 'neutral', 'sad', 'surprise']\n",
        "idx = [str(i) for i in np.arange(7)]\n",
        "cat_to_name = dict(zip(idx, classes))\n",
        "cat_to_name"
      ],
      "execution_count": 0,
      "outputs": [
        {
          "output_type": "execute_result",
          "data": {
            "text/plain": [
              "{'0': 'angry',\n",
              " '1': 'disgust',\n",
              " '2': 'fear',\n",
              " '3': 'happy',\n",
              " '4': 'neutral',\n",
              " '5': 'sad',\n",
              " '6': 'surprise'}"
            ]
          },
          "metadata": {
            "tags": []
          },
          "execution_count": 10
        }
      ]
    },
    {
      "cell_type": "code",
      "metadata": {
        "id": "H0-L00jhbYnc",
        "colab_type": "code",
        "colab": {}
      },
      "source": [
        "import shutil\n",
        "train_path = '/content/images/train'\n",
        "valid_path = '/content/images/valid'\n",
        "for i in range(len(cat_to_name)):\n",
        "    shutil.move(train_path + '/' + cat_to_name[str(i)], train_path + '/' + str(i))\n",
        "    shutil.move(valid_path + '/' + cat_to_name[str(i)], valid_path + '/' + str(i))"
      ],
      "execution_count": 0,
      "outputs": []
    },
    {
      "cell_type": "code",
      "metadata": {
        "colab_type": "code",
        "id": "g7AuU_rXgbxU",
        "colab": {}
      },
      "source": [
        "# Package imports.\n",
        "\n",
        "%matplotlib inline\n",
        "%config InlineBackend.figure_format = 'retina'\n",
        "\n",
        "import cv2\n",
        "import numpy as np\n",
        "import matplotlib.pyplot as plt\n",
        "%matplotlib inline \n",
        "import seaborn as sb\n",
        "import pandas as pd\n",
        "from sklearn.model_selection import train_test_split\n",
        "\n",
        "import json\n",
        "from time import time\n",
        "from PIL import Image\n",
        "\n",
        "import torch\n",
        "from torch import nn, optim\n",
        "import torch.nn.functional as F\n",
        "from torchvision import datasets, transforms, models"
      ],
      "execution_count": 0,
      "outputs": []
    },
    {
      "cell_type": "markdown",
      "metadata": {
        "id": "rciWhB1Z7lne",
        "colab_type": "text"
      },
      "source": [
        "FER2013 has 3 folderst that are split over the dataset. \n",
        "- train\n",
        "- valid\n",
        "- test\n",
        "\n"
      ]
    },
    {
      "cell_type": "code",
      "metadata": {
        "colab_type": "code",
        "id": "XB6s4ZNIgbxe",
        "colab": {}
      },
      "source": [
        "# Directories.\n",
        "\n",
        "data_dir = 'images'\n",
        "train_dir = data_dir + '/train'\n",
        "valid_dir = data_dir + '/valid'"
      ],
      "execution_count": 0,
      "outputs": []
    },
    {
      "cell_type": "markdown",
      "metadata": {
        "id": "PrBsanWY9JgF",
        "colab_type": "text"
      },
      "source": [
        "In the cell below, we call `transforms.Normalize` to Normalize a tensor image with mean and standard deviation.\n",
        "\n",
        "The Given mean: `(M1,...,Mn)` and std: `(S1,..,Sn)` for n channels, this transform will normalize each channel of the input `torch.*Tensor` i.e. `input[channel] = (input[channel] - mean[channel]) / std[channel]`\n",
        "\n",
        "Parameters selected:\n",
        "- `mean` (sequence) – Sequence of means for each channel.\n",
        "\n",
        "- `std` (sequence) – Sequence of standard deviations for each channel.\n",
        "\n",
        "This was used for both the `train` and `valid` data transforms"
      ]
    },
    {
      "cell_type": "code",
      "metadata": {
        "colab_type": "code",
        "id": "3yvdqavBgbxn",
        "colab": {}
      },
      "source": [
        "# Data augmentation and Normalization.\n",
        "\n",
        "# Defining transforms for the training, validation, and testing sets\n",
        "data_transforms = {'train': transforms.Compose([transforms.ToTensor(),\n",
        "                                                transforms.Normalize(mean=[0.485, 0.456, 0.406],\n",
        "                                                                     std=[0.229, 0.224, 0.225])\n",
        "                                                ]),\n",
        "                   'valid': transforms.Compose([transforms.ToTensor(),\n",
        "                                                transforms.Normalize(mean=[0.485, 0.456, 0.406],\n",
        "                                                                     std=[0.229, 0.224, 0.225])\n",
        "                                                ])}\n",
        "\n",
        "# Loading the datasets with ImageFolder.\n",
        "image_datasets = {'train': datasets.ImageFolder(train_dir, transform=data_transforms['train']),\n",
        "                  'valid': datasets.ImageFolder(valid_dir, transform=data_transforms['valid'])\n",
        "                 }\n",
        "\n",
        "# Using the image datasets and the transforms to define the dataloaders.\n",
        "dataloaders = {'trainloader': torch.utils.data.DataLoader(image_datasets['train'], batch_size=64, shuffle=True),\n",
        "               'validloader': torch.utils.data.DataLoader(image_datasets['valid'], batch_size=32)\n",
        "              }"
      ],
      "execution_count": 0,
      "outputs": []
    },
    {
      "cell_type": "markdown",
      "metadata": {
        "id": "n6py0dMasjlb",
        "colab_type": "text"
      },
      "source": [
        "Creating a set for testing because the dowmladed dataset has only training and validation sets."
      ]
    },
    {
      "cell_type": "code",
      "metadata": {
        "id": "VZHMjaw5sXvq",
        "colab_type": "code",
        "colab": {}
      },
      "source": [
        "valid_size = int(0.8 * len(image_datasets['valid']))\n",
        "test_size = len(image_datasets['valid']) - valid_size\n",
        "_, test_data = torch.utils.data.random_split(image_datasets['valid'], [valid_size, test_size])\n",
        "image_datasets['test'] = test_data\n",
        "dataloaders['testloader'] =  torch.utils.data.DataLoader(image_datasets['test'], batch_size=64)"
      ],
      "execution_count": 0,
      "outputs": []
    },
    {
      "cell_type": "markdown",
      "metadata": {
        "id": "DpX0dZISFhI5",
        "colab_type": "text"
      },
      "source": [
        "# Displaying samples from training set"
      ]
    },
    {
      "cell_type": "code",
      "metadata": {
        "id": "9Tfv8prz9qd6",
        "colab_type": "code",
        "outputId": "303b2319-02b1-42c4-b23a-eb4b50aacfb3",
        "colab": {
          "base_uri": "https://localhost:8080/",
          "height": 263
        }
      },
      "source": [
        "# helper display function\n",
        "def imshow(img):\n",
        "    npimg = img.numpy()\n",
        "    plt.imshow(np.transpose(npimg, (1, 2, 0)).astype(np.uint8))\n",
        "\n",
        "image,label=iter(dataloaders['trainloader']).next()\n",
        "# plot the images in the batch, along with the corresponding labels\n",
        "fig = plt.figure(figsize=(20, 4))\n",
        "plot_size=20\n",
        "for idx in np.arange(plot_size):\n",
        "    ax = fig.add_subplot(2, plot_size/2, idx+1, xticks=[], yticks=[])\n",
        "    imshow(image[idx])\n",
        "    ax.set_title(label[idx])"
      ],
      "execution_count": 0,
      "outputs": [
        {
          "output_type": "display_data",
          "data": {
            "image/png": "[encoded data removed]",
            "text/plain": [
              "<Figure size 1440x288 with 20 Axes>"
            ]
          },
          "metadata": {
            "tags": [],
            "image/png": {
              "width": 1133,
              "height": 246
            }
          }
        }
      ]
    },
    {
      "cell_type": "markdown",
      "metadata": {
        "id": "iwWoy2MDG9h3",
        "colab_type": "text"
      },
      "source": [
        "### Displaying images separately to see more clearly\n"
      ]
    },
    {
      "cell_type": "code",
      "metadata": {
        "id": "oLmeur-0G8jD",
        "colab_type": "code",
        "outputId": "b92686cc-b4e9-43c5-f2ee-b9adb7826552",
        "colab": {
          "base_uri": "https://localhost:8080/",
          "height": 198
        }
      },
      "source": [
        "import cv2\n",
        "\n",
        "# load color (BGR) image\n",
        "img = cv2.imread(\"/content/images/train/0/0.jpg\")\n",
        "# convert BGR image to grayscale\n",
        "gray = cv2.cvtColor(img, cv2.COLOR_BGR2GRAY)\n",
        "\n",
        "# convert BGR image to RGB for plotting\n",
        "cv_rgb = cv2.cvtColor(img, cv2.COLOR_BGR2RGB)\n",
        "\n",
        "# display the image, along with bounding box\n",
        "plt.figure(figsize=(3,6))\n",
        "plt.imshow(cv_rgb)\n",
        "plt.axis('off')\n",
        "plt.show()"
      ],
      "execution_count": 0,
      "outputs": [
        {
          "output_type": "display_data",
          "data": {
            "image/png": "[encoded data removed]",
            "text/plain": [
              "<Figure size 216x432 with 1 Axes>"
            ]
          },
          "metadata": {
            "tags": [],
            "image/png": {
              "width": 181,
              "height": 181
            }
          }
        }
      ]
    },
    {
      "cell_type": "markdown",
      "metadata": {
        "id": "Kbe56A84Fqwq",
        "colab_type": "text"
      },
      "source": [
        "### Displaying samples from validation set"
      ]
    },
    {
      "cell_type": "code",
      "metadata": {
        "id": "LhTyR6S8FlnR",
        "colab_type": "code",
        "outputId": "1fc99d8c-a18a-4cd0-b416-ab10cc0e83bb",
        "colab": {
          "base_uri": "https://localhost:8080/",
          "height": 263
        }
      },
      "source": [
        "# helper display function\n",
        "def imshow(img):\n",
        "    npimg = img.numpy()\n",
        "    plt.imshow(np.transpose(npimg, (1, 2, 0)).astype(np.uint8))\n",
        "\n",
        "image,label=iter(dataloaders['validloader']).next()\n",
        "# plot the images in the batch, along with the corresponding labels\n",
        "fig = plt.figure(figsize=(20, 4))\n",
        "plot_size=20\n",
        "for idx in np.arange(plot_size):\n",
        "    ax = fig.add_subplot(2, plot_size/2, idx+1, xticks=[], yticks=[])\n",
        "    imshow(image[idx])\n",
        "    ax.set_title(label[idx])"
      ],
      "execution_count": 0,
      "outputs": [
        {
          "output_type": "display_data",
          "data": {
            "image/png": "[encoded data removed]",
            "text/plain": [
              "<Figure size 1440x288 with 20 Axes>"
            ]
          },
          "metadata": {
            "tags": [],
            "image/png": {
              "width": 1133,
              "height": 246
            }
          }
        }
      ]
    },
    {
      "cell_type": "markdown",
      "metadata": {
        "id": "EccFaTMc-17l",
        "colab_type": "text"
      },
      "source": [
        "## Neural Network Class"
      ]
    },
    {
      "cell_type": "code",
      "metadata": {
        "colab_type": "code",
        "id": "TQfEHdvwgbxr",
        "colab": {}
      },
      "source": [
        "# Defining a class for the feedforward network.\n",
        "\n",
        "class Network(nn.Module):\n",
        "    def __init__(self, input_size, output_size, hidden_layers, drop_p=0.5):\n",
        "        ''' Builds a feedforward network with arbitrary hidden layers.\n",
        "        \n",
        "            Arguments\n",
        "            ---------\n",
        "            input_size: integer, size of the input layer\n",
        "            output_size: integer, size of the output layer\n",
        "            hidden_layers: list of integers, the sizes of the hidden layers\n",
        "        '''\n",
        "        super().__init__()\n",
        "        # Add the first layer, input to a hidden layer.\n",
        "        self.hidden_layers = nn.ModuleList([nn.Linear(input_size, hidden_layers[0])])\n",
        "        \n",
        "        # Add a variable number of more hidden layers.\n",
        "        layer_sizes = zip(hidden_layers[:-1], hidden_layers[1:])\n",
        "        self.hidden_layers.extend([nn.Linear(h1, h2) for h1, h2 in layer_sizes])\n",
        "        \n",
        "        self.output = nn.Linear(hidden_layers[-1], output_size)\n",
        "        \n",
        "        self.dropout = nn.Dropout(p=drop_p)\n",
        "        \n",
        "    def forward(self, x):\n",
        "        ''' Forward pass through the network, returns the output log softmax.\n",
        "            Arguments\n",
        "            ---------\n",
        "            self: all layers\n",
        "            x: tensor vector\n",
        "        '''\n",
        "        \n",
        "        # Forward through each layer in `hidden_layers`, with ReLU activation and dropout.        \n",
        "        for each in self.hidden_layers:\n",
        "            x = F.relu(each(x))\n",
        "            x = self.dropout(x)\n",
        "\n",
        "        x = self.output(x)\n",
        "        \n",
        "        return F.log_softmax(x, dim=1)"
      ],
      "execution_count": 0,
      "outputs": []
    },
    {
      "cell_type": "markdown",
      "metadata": {
        "id": "KBn_72pwN8u6",
        "colab_type": "text"
      },
      "source": [
        "![](https://drive.google.com/uc?id=12YYtXgGuHCS2PVX3oAymuRGg4vw5o-tt)\n",
        "\n",
        "To use TensorBoard with PyTorch in Colab, use the `tensorboardcolab` library. This library works independently of the TensorBoard and uses [ngrok](https://ngrok.com/) to tunnel TensorBoard to localhost. See this [Stack Overflow Answer](https://stackoverflow.com/a/48468512/1514728) for more details. \n",
        "\n",
        "[**Article Reference**](https://medium.com/looka-engineering/how-to-use-tensorboard-with-pytorch-in-google-colab-1f76a938bc34)\n",
        "\n",
        "[njcurtis3/tensorboardcolab](https://github.com/njcurtis3/tensorboardcolab)\n",
        "\n",
        "**Colab Notebook for Reference on tensorboardcolab**:\n",
        "[PyTorch tensorboardcolab](https://github.com/njcurtis3/tensorboardcolab)"
      ]
    },
    {
      "cell_type": "code",
      "metadata": {
        "id": "EU52UoIhN7ox",
        "colab_type": "code",
        "outputId": "3cdff60a-fd2d-47dc-f539-dc44dd7621b0",
        "colab": {
          "base_uri": "https://localhost:8080/",
          "height": 96
        }
      },
      "source": [
        "!pip install tensorboardcolab\n",
        "from tensorboardcolab import TensorBoardColab"
      ],
      "execution_count": 0,
      "outputs": [
        {
          "output_type": "stream",
          "text": [
            "Requirement already satisfied: tensorboardcolab in /usr/local/lib/python3.6/dist-packages (0.0.22)\n"
          ],
          "name": "stdout"
        },
        {
          "output_type": "display_data",
          "data": {
            "text/html": [
              "<p style=\"color: red;\">\n",
              "The default version of TensorFlow in Colab will soon switch to TensorFlow 2.x.<br>\n",
              "We recommend you <a href=\"https://www.tensorflow.org/guide/migrate\" target=\"_blank\">upgrade</a> now \n",
              "or ensure your notebook will continue to use TensorFlow 1.x via the <code>%tensorflow_version 1.x</code> magic:\n",
              "<a href=\"https://colab.research.google.com/notebooks/tensorflow_version.ipynb\" target=\"_blank\">more info</a>.</p>\n"
            ],
            "text/plain": [
              "<IPython.core.display.HTML object>"
            ]
          },
          "metadata": {
            "tags": []
          }
        },
        {
          "output_type": "stream",
          "text": [
            "Using TensorFlow backend.\n"
          ],
          "name": "stderr"
        }
      ]
    },
    {
      "cell_type": "markdown",
      "metadata": {
        "id": "x6fNokir-7YG",
        "colab_type": "text"
      },
      "source": [
        "## Validation Function"
      ]
    },
    {
      "cell_type": "code",
      "metadata": {
        "colab_type": "code",
        "id": "2C0o3_m1gbxz",
        "colab": {}
      },
      "source": [
        "# Definig a function for the validation pass.\n",
        "\n",
        "def validation(model, validloader, criterion, device):\n",
        "    ''' Builds a feedforward network with arbitrary hidden layers, \n",
        "        returns the validation loss and  validation accuracy.\n",
        "        \n",
        "        Arguments\n",
        "        ---------\n",
        "        model: the pre-trained model.\n",
        "        validloader: generator, the validation dataset.\n",
        "        criterion: loss function.\n",
        "        device: the used device for the training [GPU or CPU].\n",
        "    '''\n",
        "    # Initiate the validation accuracy & validation loss with 0.\n",
        "    valid_accuracy = 0\n",
        "    valid_loss = 0\n",
        "    # Move model to the device\n",
        "    model.to(device)\n",
        "    \n",
        "    # Looping through the data batches.\n",
        "    for inputs, labels in validloader:\n",
        "        # Move input and label tensors to the device.\n",
        "        inputs, labels = inputs.to(device), labels.to(device)\n",
        "        \n",
        "        #inputs.resize_(inputs.shape[0], 48*48)\n",
        "\n",
        "        # Forward pass through the network.\n",
        "        output = model.forward(inputs)\n",
        "        # Increase the validation loss by the loss of the predicted output with the labels.\n",
        "        valid_loss += criterion(output, labels).item()\n",
        "\n",
        "        ## Calculating the accuracy \n",
        "        # Model's output is log-softmax, so take exponential to get the probabilities.\n",
        "        ps = torch.exp(output)\n",
        "        # Class with highest probability is our predicted class, compare with true label.\n",
        "        equality = (labels.data == ps.max(dim=1)[1])\n",
        "        # Accuracy is number of correct predictions divided by all predictions, so we just take the mean.\n",
        "        valid_accuracy += equality.type(torch.FloatTensor).mean()\n",
        "\n",
        "    return valid_loss, valid_accuracy"
      ],
      "execution_count": 0,
      "outputs": []
    },
    {
      "cell_type": "markdown",
      "metadata": {
        "id": "0eUnN_FE--Cz",
        "colab_type": "text"
      },
      "source": [
        "## Training Function"
      ]
    },
    {
      "cell_type": "code",
      "metadata": {
        "colab_type": "code",
        "id": "tTFQJk2Ygbx9",
        "colab": {}
      },
      "source": [
        "# Definig a function for the training process\n",
        "\n",
        "def training(model, criterion, optimizer, device, trainloader, validloader, epochs=5, print_every=40*6):\n",
        "    ''' Builds a feedforward network with arbitrary hidden layers.\n",
        "        \n",
        "        Arguments\n",
        "        ---------\n",
        "        model: the pre-trained model.\n",
        "        optimizer: which we will take a step with it to update the weights.\n",
        "        criterion: loss function.\n",
        "        device: the used device for the training [GPU or CPU].\n",
        "        trainloader: generator, the training dataset.\n",
        "        validloader: generator, the validation dataset.\n",
        "        epochs: integer, number of trainings.\n",
        "        print_every: integer, printing the updates on loss & accuracy every print_every value.\n",
        "    '''\n",
        "    \n",
        "    steps = 0\n",
        "    running_loss = 0\n",
        "  \n",
        "    train_l=[]\n",
        "    valid_l=[]\n",
        "    tb = TensorBoardColab()\n",
        "  \n",
        "    # Move model to the device\n",
        "    model.to(device)\n",
        "    \n",
        "    for e in range(epochs):\n",
        "        # Model in training mode, dropout is on.\n",
        "        model.train()\n",
        "        for inputs, labels in trainloader:\n",
        "            # Move input and label tensors to the device.\n",
        "            inputs, labels = inputs.to(device), labels.to(device)\n",
        "            \n",
        "            steps += 1\n",
        "            \n",
        "            # zero-ing the accumalated gradients.\n",
        "            optimizer.zero_grad()\n",
        "\n",
        "            # Forward pass through the network\n",
        "            output = model.forward(inputs)\n",
        "            # Calculate the loss\n",
        "            loss = criterion(output, labels)\n",
        "            # Backward pass through the network \n",
        "            loss.backward()\n",
        "            # Take a step with the optimizer to update the weights\n",
        "            optimizer.step()\n",
        "            \n",
        "            running_loss += loss.item()\n",
        "            train_l.append(running_loss)\n",
        "\n",
        "            if steps % print_every == 0:\n",
        "                # Model in inference mode, dropout is off\n",
        "                model.eval()\n",
        "                \n",
        "                # Turn off gradients for validation saves memory and computations, so will speed up inference\n",
        "                with torch.no_grad():\n",
        "                    valid_loss, valid_accuracy = validation(model, validloader, criterion, device)\n",
        "                valid_l.append(valid_loss)\n",
        "                \n",
        "                \n",
        "                # Displaying the validation loss and accuracy during the training. \n",
        "                print(\"Epoch: {}/{}.. \".format(e+1, epochs),\n",
        "                      \"Training Loss: {:.3f}.. \".format(running_loss/print_every),\n",
        "                      \"Validation Loss: {:.3f}.. \".format(valid_loss/len(validloader)),\n",
        "                      \"Validation Accuracy: {:.3f}\".format(valid_accuracy/len(validloader)))\n",
        "            \n",
        "                running_loss = 0\n",
        "                \n",
        "                # Make sure dropout and grads are back on for training\n",
        "                model.train()\n",
        "            \n",
        "   \n",
        "                # Recording to Tensorboard -------------------------------------------------\n",
        " \n",
        "                tb.save_value('Valid_Loss', 'valid_loss', steps, loss.item())\n",
        "                tb.save_value('Training_Loss', 'running_loss', steps, loss.item())\n",
        "                tb.save_value('Valid_Accuracy', 'valid_accuracy', steps, loss.item())\n",
        "    \n",
        "                \n",
        "                \n",
        "    return valid_l,train_l"
      ],
      "execution_count": 0,
      "outputs": []
    },
    {
      "cell_type": "markdown",
      "metadata": {
        "id": "wDn_COWCAkCD",
        "colab_type": "text"
      },
      "source": [
        "# VGG19\n",
        "\n",
        "Reference: [Very Deep Convolutional Networks for Large-Scale Image Recognition](https://arxiv.org/pdf/1409.1556.pdf)\n",
        "\n",
        "![](https://drive.google.com/uc?id=1ITWURPdjvy93KzkghdPZOYdNw2CMW6ea)"
      ]
    },
    {
      "cell_type": "markdown",
      "metadata": {
        "id": "Lk2yS5JGEYin",
        "colab_type": "text"
      },
      "source": [
        "### Model Architecture\n",
        "\n",
        "\n",
        "    - A fixed size of (224 * 224) RGB image was given as input to this network which means that the matrix was of shape (224,224,3).\n",
        "    - The only preprocessing that was done is that they subtracted the mean RGB value from each pixel, computed over the whole training set.\n",
        "    - Used kernels of (3 * 3) size with a stride size of 1 pixel, this enabled them to cover the whole notion of the image.\n",
        "    - spatial padding was used to preserve the spatial resolution of the image.\n",
        "    - max pooling was performed over a 2 * 2 pixel windows with sride 2.\n",
        "    - this was followed by Rectified linear unit(ReLu) to introduce non-linearity to make the model classify better and to improve computational time as the previous models used tanh or sigmoid functions this proved much better than those.\n",
        "    - implemented three fully connected layers from which first two were of size 4096 and after that a layer with 1000 channels for 1000-way ILSVRC classification and the final layer is a softmax function.\n",
        "\n",
        "The column **E** in the following table is for **VGG19** *(other columns are for other variants of VGG models)*:\n",
        "\n",
        "![](https://drive.google.com/uc?id=1G6kZhFmW1zDelmRAtPQeD7Db4rveoJBj)\n"
      ]
    },
    {
      "cell_type": "code",
      "metadata": {
        "colab_type": "code",
        "id": "TCTQTXrTgbyA",
        "outputId": "d816639c-8c8e-4d9f-e842-a481b5a086a5",
        "scrolled": true,
        "colab": {
          "base_uri": "https://localhost:8080/",
          "height": 939,
          "referenced_widgets": [
            "9962444a6b8a4a598487c897865c8a1e",
            "f23e4e2c26bb465c816f91509cd74a2e",
            "1da5159193474b40bf32462c17e22ee9",
            "0468895edfb54f1b8d049164fb0047a8",
            "c7550c27df3840a5973e9b4e6dcb3d8b",
            "a4318ca5303b45ee94687fcde53b901d",
            "6d055e52244442ada687a7eb499f2daa",
            "e4aafdb3e2ca49598f4b92183215e5f8"
          ]
        }
      },
      "source": [
        "# Using a Pretrained Network\n",
        "model = models.vgg19(pretrained=True)\n",
        "model"
      ],
      "execution_count": 0,
      "outputs": [
        {
          "output_type": "stream",
          "text": [
            "Downloading: \"https://download.pytorch.org/models/vgg19-dcbb9e9d.pth\" to /root/.cache/torch/checkpoints/vgg19-dcbb9e9d.pth\n"
          ],
          "name": "stderr"
        },
        {
          "output_type": "display_data",
          "data": {
            "application/vnd.jupyter.widget-view+json": {
              "model_id": "9962444a6b8a4a598487c897865c8a1e",
              "version_minor": 0,
              "version_major": 2
            },
            "text/plain": [
              "HBox(children=(IntProgress(value=0, max=574673361), HTML(value='')))"
            ]
          },
          "metadata": {
            "tags": []
          }
        },
        {
          "output_type": "stream",
          "text": [
            "\n"
          ],
          "name": "stdout"
        },
        {
          "output_type": "execute_result",
          "data": {
            "text/plain": [
              "VGG(\n",
              "  (features): Sequential(\n",
              "    (0): Conv2d(3, 64, kernel_size=(3, 3), stride=(1, 1), padding=(1, 1))\n",
              "    (1): ReLU(inplace=True)\n",
              "    (2): Conv2d(64, 64, kernel_size=(3, 3), stride=(1, 1), padding=(1, 1))\n",
              "    (3): ReLU(inplace=True)\n",
              "    (4): MaxPool2d(kernel_size=2, stride=2, padding=0, dilation=1, ceil_mode=False)\n",
              "    (5): Conv2d(64, 128, kernel_size=(3, 3), stride=(1, 1), padding=(1, 1))\n",
              "    (6): ReLU(inplace=True)\n",
              "    (7): Conv2d(128, 128, kernel_size=(3, 3), stride=(1, 1), padding=(1, 1))\n",
              "    (8): ReLU(inplace=True)\n",
              "    (9): MaxPool2d(kernel_size=2, stride=2, padding=0, dilation=1, ceil_mode=False)\n",
              "    (10): Conv2d(128, 256, kernel_size=(3, 3), stride=(1, 1), padding=(1, 1))\n",
              "    (11): ReLU(inplace=True)\n",
              "    (12): Conv2d(256, 256, kernel_size=(3, 3), stride=(1, 1), padding=(1, 1))\n",
              "    (13): ReLU(inplace=True)\n",
              "    (14): Conv2d(256, 256, kernel_size=(3, 3), stride=(1, 1), padding=(1, 1))\n",
              "    (15): ReLU(inplace=True)\n",
              "    (16): Conv2d(256, 256, kernel_size=(3, 3), stride=(1, 1), padding=(1, 1))\n",
              "    (17): ReLU(inplace=True)\n",
              "    (18): MaxPool2d(kernel_size=2, stride=2, padding=0, dilation=1, ceil_mode=False)\n",
              "    (19): Conv2d(256, 512, kernel_size=(3, 3), stride=(1, 1), padding=(1, 1))\n",
              "    (20): ReLU(inplace=True)\n",
              "    (21): Conv2d(512, 512, kernel_size=(3, 3), stride=(1, 1), padding=(1, 1))\n",
              "    (22): ReLU(inplace=True)\n",
              "    (23): Conv2d(512, 512, kernel_size=(3, 3), stride=(1, 1), padding=(1, 1))\n",
              "    (24): ReLU(inplace=True)\n",
              "    (25): Conv2d(512, 512, kernel_size=(3, 3), stride=(1, 1), padding=(1, 1))\n",
              "    (26): ReLU(inplace=True)\n",
              "    (27): MaxPool2d(kernel_size=2, stride=2, padding=0, dilation=1, ceil_mode=False)\n",
              "    (28): Conv2d(512, 512, kernel_size=(3, 3), stride=(1, 1), padding=(1, 1))\n",
              "    (29): ReLU(inplace=True)\n",
              "    (30): Conv2d(512, 512, kernel_size=(3, 3), stride=(1, 1), padding=(1, 1))\n",
              "    (31): ReLU(inplace=True)\n",
              "    (32): Conv2d(512, 512, kernel_size=(3, 3), stride=(1, 1), padding=(1, 1))\n",
              "    (33): ReLU(inplace=True)\n",
              "    (34): Conv2d(512, 512, kernel_size=(3, 3), stride=(1, 1), padding=(1, 1))\n",
              "    (35): ReLU(inplace=True)\n",
              "    (36): MaxPool2d(kernel_size=2, stride=2, padding=0, dilation=1, ceil_mode=False)\n",
              "  )\n",
              "  (avgpool): AdaptiveAvgPool2d(output_size=(7, 7))\n",
              "  (classifier): Sequential(\n",
              "    (0): Linear(in_features=25088, out_features=4096, bias=True)\n",
              "    (1): ReLU(inplace=True)\n",
              "    (2): Dropout(p=0.5, inplace=False)\n",
              "    (3): Linear(in_features=4096, out_features=4096, bias=True)\n",
              "    (4): ReLU(inplace=True)\n",
              "    (5): Dropout(p=0.5, inplace=False)\n",
              "    (6): Linear(in_features=4096, out_features=1000, bias=True)\n",
              "  )\n",
              ")"
            ]
          },
          "metadata": {
            "tags": []
          },
          "execution_count": 23
        }
      ]
    },
    {
      "cell_type": "markdown",
      "metadata": {
        "id": "uLVpvWpP_90f",
        "colab_type": "text"
      },
      "source": [
        "Looking at just our classifier from the model architiecture"
      ]
    },
    {
      "cell_type": "code",
      "metadata": {
        "id": "Ig1y1ysP_Ivb",
        "colab_type": "code",
        "outputId": "0b7a645c-3722-4ebd-8a0c-8f346f0c424c",
        "colab": {
          "base_uri": "https://localhost:8080/",
          "height": 168
        }
      },
      "source": [
        "print (model.classifier)"
      ],
      "execution_count": 0,
      "outputs": [
        {
          "output_type": "stream",
          "text": [
            "Sequential(\n",
            "  (0): Linear(in_features=25088, out_features=4096, bias=True)\n",
            "  (1): ReLU(inplace=True)\n",
            "  (2): Dropout(p=0.5, inplace=False)\n",
            "  (3): Linear(in_features=4096, out_features=4096, bias=True)\n",
            "  (4): ReLU(inplace=True)\n",
            "  (5): Dropout(p=0.5, inplace=False)\n",
            "  (6): Linear(in_features=4096, out_features=1000, bias=True)\n",
            ")\n"
          ],
          "name": "stdout"
        }
      ]
    },
    {
      "cell_type": "code",
      "metadata": {
        "colab_type": "code",
        "id": "GtmLm9GJgbyT",
        "colab": {}
      },
      "source": [
        "# Setting all hyper parameters in a dictionary to ease the dealing.\n",
        "hyper_parameters = {'input_size': 25088,\n",
        "                    'output_size': 7,\n",
        "                    'hidden_layers': [1024],\n",
        "                    'drop_p': 0.2,\n",
        "                    'learn_rate': 0.0001,\n",
        "                    'epochs': 25,\n",
        "                    'model': 'vgg19'\n",
        "                   }"
      ],
      "execution_count": 0,
      "outputs": []
    },
    {
      "cell_type": "code",
      "metadata": {
        "colab_type": "code",
        "id": "-JutbVp-gbyX",
        "colab": {}
      },
      "source": [
        "# Freezing the parameters so we don't backprop through them, \n",
        "# we will backprop through the classifier parameters only later\n",
        "for param in model.parameters():\n",
        "    param.requires_grad = False\n",
        "\n",
        "# Creating Feedforward Classifier\n",
        "classifier = Network(input_size = hyper_parameters['input_size'], \n",
        "                     output_size = hyper_parameters['output_size'], \n",
        "                     hidden_layers = hyper_parameters['hidden_layers'], \n",
        "                     drop_p = hyper_parameters['drop_p'])\n",
        "\n",
        "model.classifier = classifier"
      ],
      "execution_count": 0,
      "outputs": []
    },
    {
      "cell_type": "code",
      "metadata": {
        "colab_type": "code",
        "id": "OmoG3Fz7gbya",
        "colab": {}
      },
      "source": [
        "# Define the criterion (Loss function). \n",
        "criterion = nn.NLLLoss()\n",
        "# Define the optimizer. Only train the classifier parameters, feature parameters are frozen\n",
        "optimizer = optim.Adam(model.classifier.parameters(), lr=hyper_parameters['learn_rate'])"
      ],
      "execution_count": 0,
      "outputs": []
    },
    {
      "cell_type": "markdown",
      "metadata": {
        "id": "XpCQiIyAJti9",
        "colab_type": "text"
      },
      "source": [
        "### Device Check - GPU/CPU"
      ]
    },
    {
      "cell_type": "code",
      "metadata": {
        "id": "q0FM1JpUHb7r",
        "colab_type": "code",
        "outputId": "9f7dcebd-3a05-4df1-eb44-944fba58efa8",
        "colab": {
          "base_uri": "https://localhost:8080/",
          "height": 118
        }
      },
      "source": [
        "# Checking if the 'GPU' is available to pass it for the device variable, and if it's not, pass the 'CPU'\n",
        "device = torch.device(\"cuda:0\" if torch.cuda.is_available() else \"cpu\")\n",
        "print('Using Device:', device)\n",
        "print()\n",
        "\n",
        "#additional CUDA info - when using\n",
        "if device.type == 'cuda':\n",
        "  print(torch.cuda.get_device_name(0))\n",
        "  print('Memory Usage:')\n",
        "  print('Allocated:', round(torch.cuda.memory_allocated(0)/1024**3,1), 'GB')\n",
        "  print('Cached:   ', round(torch.cuda.memory_cached(0)/1024**3,1), 'GB')"
      ],
      "execution_count": 0,
      "outputs": [
        {
          "output_type": "stream",
          "text": [
            "Using Device: cuda:0\n",
            "\n",
            "Tesla P100-PCIE-16GB\n",
            "Memory Usage:\n",
            "Allocated: 0.0 GB\n",
            "Cached:    0.0 GB\n"
          ],
          "name": "stdout"
        }
      ]
    },
    {
      "cell_type": "code",
      "metadata": {
        "id": "FYAvdYghHeua",
        "colab_type": "code",
        "outputId": "8807a454-b5ef-41f3-9a73-5d9fadec7bf1",
        "colab": {
          "base_uri": "https://localhost:8080/",
          "height": 302
        }
      },
      "source": [
        "gpu_info = !nvidia-smi\n",
        "gpu_info = '\\n'.join(gpu_info)\n",
        "if gpu_info.find('failed') >= 0:\n",
        "  print('Select the Runtime → \"Change runtime type\" menu to enable a GPU accelerator, ')\n",
        "  print('and then re-execute this cell.')\n",
        "else:\n",
        "  print(gpu_info)"
      ],
      "execution_count": 0,
      "outputs": [
        {
          "output_type": "stream",
          "text": [
            "Mon Mar 16 09:46:54 2020       \n",
            "+-----------------------------------------------------------------------------+\n",
            "| NVIDIA-SMI 440.59       Driver Version: 418.67       CUDA Version: 10.1     |\n",
            "|-------------------------------+----------------------+----------------------+\n",
            "| GPU  Name        Persistence-M| Bus-Id        Disp.A | Volatile Uncorr. ECC |\n",
            "| Fan  Temp  Perf  Pwr:Usage/Cap|         Memory-Usage | GPU-Util  Compute M. |\n",
            "|===============================+======================+======================|\n",
            "|   0  Tesla P100-PCIE...  Off  | 00000000:00:04.0 Off |                    0 |\n",
            "| N/A   35C    P0    27W / 250W |     10MiB / 16280MiB |      0%      Default |\n",
            "+-------------------------------+----------------------+----------------------+\n",
            "                                                                               \n",
            "+-----------------------------------------------------------------------------+\n",
            "| Processes:                                                       GPU Memory |\n",
            "|  GPU       PID   Type   Process name                             Usage      |\n",
            "|=============================================================================|\n",
            "|  No running processes found                                                 |\n",
            "+-----------------------------------------------------------------------------+\n"
          ],
          "name": "stdout"
        }
      ]
    },
    {
      "cell_type": "markdown",
      "metadata": {
        "id": "AaCq2mDQs7oO",
        "colab_type": "text"
      },
      "source": [
        "# Training the model\n"
      ]
    },
    {
      "cell_type": "code",
      "metadata": {
        "colab_type": "code",
        "id": "dL3XDs9ngbym",
        "outputId": "2cd80509-ab42-4655-c826-66bece26cd09",
        "colab": {
          "base_uri": "https://localhost:8080/",
          "height": 927
        }
      },
      "source": [
        "# Train the model with a pre-trained network.\n",
        "\n",
        "valid, train = training(model, criterion, optimizer, device,\n",
        "                        trainloader = dataloaders['trainloader'],\n",
        "                        validloader = dataloaders['validloader'],\n",
        "                        epochs = hyper_parameters['epochs'])"
      ],
      "execution_count": 0,
      "outputs": [
        {
          "output_type": "stream",
          "text": [
            "Wait for 8 seconds...\n",
            "TensorBoard link:\n",
            "http://c29b126a.ngrok.io\n",
            "Epoch: 1/25..  Training Loss: 1.668..  Validation Loss: 1.563..  Validation Accuracy: 0.393\n",
            "WARNING:tensorflow:From /usr/local/lib/python3.6/dist-packages/tensorboardcolab/core.py:49: The name tf.summary.FileWriter is deprecated. Please use tf.compat.v1.summary.FileWriter instead.\n",
            "\n",
            "WARNING:tensorflow:From /usr/local/lib/python3.6/dist-packages/tensorboardcolab/core.py:101: The name tf.Summary is deprecated. Please use tf.compat.v1.Summary instead.\n",
            "\n",
            "Epoch: 2/25..  Training Loss: 1.568..  Validation Loss: 1.534..  Validation Accuracy: 0.409\n",
            "Epoch: 2/25..  Training Loss: 1.524..  Validation Loss: 1.523..  Validation Accuracy: 0.407\n",
            "Epoch: 3/25..  Training Loss: 1.509..  Validation Loss: 1.523..  Validation Accuracy: 0.413\n",
            "Epoch: 3/25..  Training Loss: 1.476..  Validation Loss: 1.505..  Validation Accuracy: 0.418\n",
            "Epoch: 4/25..  Training Loss: 1.466..  Validation Loss: 1.497..  Validation Accuracy: 0.429\n",
            "Epoch: 4/25..  Training Loss: 1.429..  Validation Loss: 1.494..  Validation Accuracy: 0.433\n",
            "Epoch: 5/25..  Training Loss: 1.425..  Validation Loss: 1.497..  Validation Accuracy: 0.426\n",
            "Epoch: 5/25..  Training Loss: 1.401..  Validation Loss: 1.491..  Validation Accuracy: 0.437\n",
            "Epoch: 6/25..  Training Loss: 1.377..  Validation Loss: 1.494..  Validation Accuracy: 0.429\n",
            "Epoch: 6/25..  Training Loss: 1.370..  Validation Loss: 1.486..  Validation Accuracy: 0.439\n",
            "Epoch: 7/25..  Training Loss: 1.341..  Validation Loss: 1.489..  Validation Accuracy: 0.446\n",
            "Epoch: 7/25..  Training Loss: 1.339..  Validation Loss: 1.486..  Validation Accuracy: 0.441\n",
            "Epoch: 8/25..  Training Loss: 1.313..  Validation Loss: 1.508..  Validation Accuracy: 0.431\n",
            "Epoch: 8/25..  Training Loss: 1.301..  Validation Loss: 1.501..  Validation Accuracy: 0.442\n",
            "Epoch: 9/25..  Training Loss: 1.267..  Validation Loss: 1.509..  Validation Accuracy: 0.440\n",
            "Epoch: 10/25..  Training Loss: 1.282..  Validation Loss: 1.492..  Validation Accuracy: 0.445\n",
            "Epoch: 10/25..  Training Loss: 1.240..  Validation Loss: 1.498..  Validation Accuracy: 0.443\n",
            "Epoch: 11/25..  Training Loss: 1.236..  Validation Loss: 1.513..  Validation Accuracy: 0.439\n",
            "Epoch: 11/25..  Training Loss: 1.204..  Validation Loss: 1.505..  Validation Accuracy: 0.448\n",
            "Epoch: 12/25..  Training Loss: 1.207..  Validation Loss: 1.513..  Validation Accuracy: 0.450\n",
            "Epoch: 12/25..  Training Loss: 1.182..  Validation Loss: 1.521..  Validation Accuracy: 0.452\n",
            "Epoch: 13/25..  Training Loss: 1.179..  Validation Loss: 1.528..  Validation Accuracy: 0.453\n",
            "Epoch: 13/25..  Training Loss: 1.159..  Validation Loss: 1.542..  Validation Accuracy: 0.447\n",
            "Epoch: 14/25..  Training Loss: 1.135..  Validation Loss: 1.551..  Validation Accuracy: 0.447\n",
            "Epoch: 14/25..  Training Loss: 1.142..  Validation Loss: 1.539..  Validation Accuracy: 0.451\n",
            "Epoch: 15/25..  Training Loss: 1.101..  Validation Loss: 1.561..  Validation Accuracy: 0.452\n",
            "Epoch: 15/25..  Training Loss: 1.117..  Validation Loss: 1.537..  Validation Accuracy: 0.455\n",
            "Epoch: 16/25..  Training Loss: 1.071..  Validation Loss: 1.577..  Validation Accuracy: 0.455\n",
            "Epoch: 16/25..  Training Loss: 1.088..  Validation Loss: 1.551..  Validation Accuracy: 0.453\n",
            "Epoch: 17/25..  Training Loss: 1.040..  Validation Loss: 1.591..  Validation Accuracy: 0.449\n",
            "Epoch: 18/25..  Training Loss: 1.060..  Validation Loss: 1.583..  Validation Accuracy: 0.458\n",
            "Epoch: 18/25..  Training Loss: 1.026..  Validation Loss: 1.589..  Validation Accuracy: 0.452\n",
            "Epoch: 19/25..  Training Loss: 1.027..  Validation Loss: 1.602..  Validation Accuracy: 0.453\n",
            "Epoch: 19/25..  Training Loss: 1.009..  Validation Loss: 1.601..  Validation Accuracy: 0.460\n",
            "Epoch: 20/25..  Training Loss: 0.994..  Validation Loss: 1.608..  Validation Accuracy: 0.462\n",
            "Epoch: 20/25..  Training Loss: 0.983..  Validation Loss: 1.638..  Validation Accuracy: 0.459\n",
            "Epoch: 21/25..  Training Loss: 0.972..  Validation Loss: 1.635..  Validation Accuracy: 0.451\n",
            "Epoch: 21/25..  Training Loss: 0.966..  Validation Loss: 1.642..  Validation Accuracy: 0.456\n",
            "Epoch: 22/25..  Training Loss: 0.941..  Validation Loss: 1.664..  Validation Accuracy: 0.462\n",
            "Epoch: 22/25..  Training Loss: 0.949..  Validation Loss: 1.664..  Validation Accuracy: 0.460\n",
            "Epoch: 23/25..  Training Loss: 0.910..  Validation Loss: 1.710..  Validation Accuracy: 0.457\n",
            "Epoch: 23/25..  Training Loss: 0.933..  Validation Loss: 1.676..  Validation Accuracy: 0.458\n",
            "Epoch: 24/25..  Training Loss: 0.896..  Validation Loss: 1.708..  Validation Accuracy: 0.458\n",
            "Epoch: 24/25..  Training Loss: 0.920..  Validation Loss: 1.705..  Validation Accuracy: 0.462\n",
            "Epoch: 25/25..  Training Loss: 0.874..  Validation Loss: 1.727..  Validation Accuracy: 0.457\n"
          ],
          "name": "stdout"
        }
      ]
    },
    {
      "cell_type": "markdown",
      "metadata": {
        "id": "0PTk0l96trym",
        "colab_type": "text"
      },
      "source": [
        "### Plotting the Training Loss & Validation Loss over Training"
      ]
    },
    {
      "cell_type": "code",
      "metadata": {
        "id": "BGgLrulHWPcw",
        "colab_type": "code",
        "outputId": "21afa06e-f860-4664-8adf-42e116e65798",
        "colab": {
          "base_uri": "https://localhost:8080/",
          "height": 297
        }
      },
      "source": [
        "plt.plot(np.array(train),label='Training Loss', alpha=0.5)\n",
        "plt.title(\"Training Losses\")\n",
        "plt.legend()"
      ],
      "execution_count": 0,
      "outputs": [
        {
          "output_type": "execute_result",
          "data": {
            "text/plain": [
              "<matplotlib.legend.Legend at 0x7fb5f6872828>"
            ]
          },
          "metadata": {
            "tags": []
          },
          "execution_count": 31
        },
        {
          "output_type": "display_data",
          "data": {
            "image/png": "[encoded data removed]",
            "text/plain": [
              "<Figure size 432x288 with 1 Axes>"
            ]
          },
          "metadata": {
            "tags": [],
            "image/png": {
              "width": 375,
              "height": 263
            }
          }
        }
      ]
    },
    {
      "cell_type": "code",
      "metadata": {
        "id": "c6STDbTiL_Ba",
        "colab_type": "code",
        "outputId": "ecdfca60-3b19-4eab-8859-00e5860d9c7c",
        "colab": {
          "base_uri": "https://localhost:8080/",
          "height": 297
        }
      },
      "source": [
        "plt.plot(np.array(valid), label='Validation Loss', alpha=0.5)\n",
        "plt.title(\"Training Losses\")\n",
        "plt.legend()"
      ],
      "execution_count": 0,
      "outputs": [
        {
          "output_type": "execute_result",
          "data": {
            "text/plain": [
              "<matplotlib.legend.Legend at 0x7fb5be417358>"
            ]
          },
          "metadata": {
            "tags": []
          },
          "execution_count": 32
        },
        {
          "output_type": "display_data",
          "data": {
            "image/png": "[encoded data removed]",
            "text/plain": [
              "<Figure size 432x288 with 1 Axes>"
            ]
          },
          "metadata": {
            "tags": [],
            "image/png": {
              "width": 375,
              "height": 263
            }
          }
        }
      ]
    },
    {
      "cell_type": "markdown",
      "metadata": {
        "id": "tFzZKK-qtP0A",
        "colab_type": "text"
      },
      "source": [
        "# Saving the trained model\n",
        "\n"
      ]
    },
    {
      "cell_type": "code",
      "metadata": {
        "colab_type": "code",
        "id": "xYT6cLVzbVtH",
        "colab": {}
      },
      "source": [
        "# Saving the model, weights, biases, mapping of classes to indices, and hyper parameters to rebuild the model.\n",
        "\n",
        "model.class_to_idx = image_datasets['train'].class_to_idx\n",
        "\n",
        "checkpoint = {'input_size': hyper_parameters['input_size'],\n",
        "              'output_size': hyper_parameters['output_size'],\n",
        "              'hidden_layers': hyper_parameters['hidden_layers'],\n",
        "              'drop_p': hyper_parameters['drop_p'],\n",
        "              'model': hyper_parameters['model'],\n",
        "              'class_to_idx': model.class_to_idx,\n",
        "              'state_dict': model.state_dict()}\n",
        "\n",
        "filepath = '/content/gdrive/My Drive/Colab Notebooks/vgg19.pth'\n",
        "\n",
        "torch.save(checkpoint, filepath)"
      ],
      "execution_count": 0,
      "outputs": []
    },
    {
      "cell_type": "markdown",
      "metadata": {
        "id": "asP-KQTDtb_P",
        "colab_type": "text"
      },
      "source": [
        "# Loading a trained model"
      ]
    },
    {
      "cell_type": "code",
      "metadata": {
        "colab_type": "code",
        "id": "2iUS0n5zbVwA",
        "colab": {}
      },
      "source": [
        "# Defining a function that loads a checkpoint and rebuilds the model.\n",
        "\n",
        "def load_checkpoint(filepath):\n",
        "    ''' Builds a function to load the model, returns the model.\n",
        "        \n",
        "        Arguments\n",
        "        ---------\n",
        "        filepath: string, the path of the model checkpoint.\n",
        "    '''\n",
        "    # Loading the checkpoint\n",
        "    checkpoint = torch.load(filepath)\n",
        "    # using the pre-trained Network\n",
        "    if checkpoint['model'] == 'vgg19':\n",
        "        model = models.vgg19(pretrained=True)\n",
        "    \n",
        "    # Freezing the parameters so we don't backprop through them\n",
        "    for param in model.parameters():\n",
        "        param.requires_grad = False\n",
        "       \n",
        "    # Creating the Feedforward Classifier\n",
        "    classifier = Network(input_size = checkpoint['input_size'],\n",
        "                         output_size = checkpoint['output_size'],\n",
        "                         hidden_layers = checkpoint['hidden_layers'], \n",
        "                         drop_p = checkpoint['drop_p'])\n",
        "    \n",
        "    # Replacing pre-trained calssifier by ours.\n",
        "    model.classifier = classifier\n",
        "    # Loading the weights and biases.\n",
        "    model.load_state_dict(checkpoint['state_dict'])\n",
        "    # Loading the classes to indices of our saved model.\n",
        "    model.class_to_idx = checkpoint['class_to_idx']\n",
        "    \n",
        "    return model"
      ],
      "execution_count": 0,
      "outputs": []
    },
    {
      "cell_type": "code",
      "metadata": {
        "colab_type": "code",
        "id": "sNuuh0bbb2GG",
        "outputId": "73c7e32d-3ac2-4998-97b9-02d29ef4e36a",
        "colab": {
          "base_uri": "https://localhost:8080/",
          "height": 34
        }
      },
      "source": [
        "# Loading the model & Calculating the spent time.\n",
        "start = time()\n",
        "filepath = '/content/gdrive/My Drive/Colab Notebooks/vgg19.pth'\n",
        "model = load_checkpoint(filepath)\n",
        "print(\"Loading vgg19.pth time = \", time() - start)"
      ],
      "execution_count": 0,
      "outputs": [
        {
          "output_type": "stream",
          "text": [
            "Loading vgg19.pth time =  1.7974209785461426\n"
          ],
          "name": "stdout"
        }
      ]
    },
    {
      "cell_type": "markdown",
      "metadata": {
        "id": "mH_VkEdLuDwF",
        "colab_type": "text"
      },
      "source": [
        "# Testing Function"
      ]
    },
    {
      "cell_type": "code",
      "metadata": {
        "colab_type": "code",
        "id": "JsyJYvbzgbys",
        "colab": {}
      },
      "source": [
        "# Dfefining a function for testing\n",
        "\n",
        "def testing(model, testloader):\n",
        "    ''' Builds a function to test the model, returns the testing accuracy.\n",
        "        \n",
        "        Arguments\n",
        "        ---------\n",
        "        model: the pre-trained model.\n",
        "        testloader: generator, the testing dataset.\n",
        "    '''\n",
        "    \n",
        "    # Checking if the 'GPU' is available to pass it for the device variable, and if it's not, pass the 'CPU'\n",
        "    device = torch.device(\"cuda:0\" if torch.cuda.is_available() else \"cpu\")\n",
        "    # Model in inference mode, dropout is off\n",
        "    model.eval()\n",
        "    # Move model to the device\n",
        "    model.to(device)\n",
        "    accuracy = 0\n",
        "    steps=0\n",
        "    tb = TensorBoardColab()\n",
        "    \n",
        "    for inputs, labels in testloader:\n",
        "        inputs, labels = inputs.to(device), labels.to(device)\n",
        "        \n",
        "        # Turn off gradients for testing saves memory and computations, so will speed up inference\n",
        "        with torch.no_grad():\n",
        "            # Forward pass through the network to get the outputs\n",
        "            output = model.forward(inputs)\n",
        "        \n",
        "        # take exponential to get the probabilities from log softmax output.\n",
        "        ps = torch.exp(output)\n",
        "        equality = (labels.data == ps.max(dim=1)[1])\n",
        "        accuracy += equality.type(torch.FloatTensor).mean()\n",
        "        \n",
        "        tb.save_value('Test_Accuracy', 'accuracy', steps,accuracy)\n",
        "        steps+=1\n",
        "    \n",
        "        \n",
        "    test_accuracy = accuracy / len(testloader)\n",
        "\n",
        "    \n",
        "    return test_accuracy"
      ],
      "execution_count": 0,
      "outputs": []
    },
    {
      "cell_type": "code",
      "metadata": {
        "colab_type": "code",
        "id": "R3vwyVB_bVip",
        "outputId": "cd8fe627-1521-4f80-9d1d-e8fca74fcb15",
        "colab": {
          "base_uri": "https://localhost:8080/",
          "height": 84
        }
      },
      "source": [
        "test_accuracy = testing(model, dataloaders['testloader'])\n",
        "print(\"Test Accuracy: {:.3f}\".format(test_accuracy))"
      ],
      "execution_count": 0,
      "outputs": [
        {
          "output_type": "stream",
          "text": [
            "Wait for 8 seconds...\n",
            "TensorBoard link:\n",
            "https://22eb394a.ngrok.io\n",
            "Test Accuracy: 0.471\n"
          ],
          "name": "stdout"
        }
      ]
    },
    {
      "cell_type": "code",
      "metadata": {
        "colab_type": "code",
        "id": "ayMLFZGGbVp-",
        "outputId": "d578f99a-68f0-4dd7-c929-aad2b377a8ad",
        "colab": {
          "base_uri": "https://localhost:8080/",
          "height": 538
        }
      },
      "source": [
        "# Avergae testing\n",
        "\n",
        "test_sum = 0\n",
        "for i in range(5):\n",
        "    start = time()\n",
        "    test_accuracy = testing(model, dataloaders['testloader'])\n",
        "    test_sum += test_accuracy\n",
        "    print(\"Test Accuracy{}: {:.3f}\".format(i, test_accuracy))\n",
        "    print(\"testing vgg19_2.pth time = \", time() - start)\n",
        "    print()\n",
        "\n",
        "print(\"Average Test Accuracy: {:.3f}\".format(test_sum/5))"
      ],
      "execution_count": 0,
      "outputs": [
        {
          "output_type": "stream",
          "text": [
            "Wait for 8 seconds...\n",
            "TensorBoard link:\n",
            "https://22eb394a.ngrok.io\n",
            "Test Accuracy0: 0.471\n",
            "testing vgg19_2.pth time =  15.486526012420654\n",
            "\n",
            "Wait for 8 seconds...\n",
            "TensorBoard link:\n",
            "https://22eb394a.ngrok.io\n",
            "Test Accuracy1: 0.471\n",
            "testing vgg19_2.pth time =  17.287311553955078\n",
            "\n",
            "Wait for 8 seconds...\n",
            "TensorBoard link:\n",
            "https://22eb394a.ngrok.io\n",
            "Test Accuracy2: 0.471\n",
            "testing vgg19_2.pth time =  15.52170443534851\n",
            "\n",
            "Wait for 8 seconds...\n",
            "TensorBoard link:\n",
            "https://22eb394a.ngrok.io\n",
            "Test Accuracy3: 0.471\n",
            "testing vgg19_2.pth time =  17.884750843048096\n",
            "\n",
            "Wait for 8 seconds...\n",
            "TensorBoard link:\n",
            "https://22eb394a.ngrok.io\n",
            "Test Accuracy4: 0.471\n",
            "testing vgg19_2.pth time =  15.13335657119751\n",
            "\n",
            "Average Test Accuracy: 0.471\n"
          ],
          "name": "stdout"
        }
      ]
    },
    {
      "cell_type": "markdown",
      "metadata": {
        "id": "dbNTR--1uLlA",
        "colab_type": "text"
      },
      "source": [
        "# Using the trained model for Inference"
      ]
    },
    {
      "cell_type": "markdown",
      "metadata": {
        "id": "uomOGD2x9Zgk",
        "colab_type": "text"
      },
      "source": [
        "### Method 1: Displaying top (k) most likely predicted classes"
      ]
    },
    {
      "cell_type": "code",
      "metadata": {
        "colab_type": "code",
        "id": "y_Wuc2sOjMgs",
        "colab": {}
      },
      "source": [
        "def process_image(image_path):\n",
        "    ''' Scales, crops, and normalizes a PIL image and converts  into an object \n",
        "        that can be used as input to a trained model, returns an Numpy array.\n",
        "\n",
        "        Arguments\n",
        "        ---------\n",
        "        image_path: string, path of the image.\n",
        "    '''\n",
        "    \n",
        "    im = Image.open(image_path).convert(\"RGB\")\n",
        "    # Process a PIL image for use in a PyTorch model\n",
        "    preprocess = transforms.Compose([transforms.ToTensor(),\n",
        "                                     transforms.Normalize((0.5,), (0.5,))\n",
        "                                     ])\n",
        "    preprocessed_im = preprocess(im)\n",
        "    \n",
        "    return preprocessed_im"
      ],
      "execution_count": 0,
      "outputs": []
    },
    {
      "cell_type": "code",
      "metadata": {
        "id": "cI1Cl_JHyOyy",
        "colab_type": "code",
        "colab": {}
      },
      "source": [
        "def predict(image_path, model, device, topk):\n",
        "    ''' Predict the class (or classes) of an image using a trained deep learning model,\n",
        "        returns the probabilities and classes of most likely (k) predicted classes.\n",
        "        \n",
        "        Arguments\n",
        "        ---------\n",
        "        image_path: string, path of the image.\n",
        "        model: the pre-trained model.\n",
        "        device: string, the used device for inference which the user passed.\n",
        "        topk: integer, number of most likely (k) classes.\n",
        "    '''\n",
        "    \n",
        "    # Move model to the device\n",
        "    model.to(device)\n",
        "    # Model in inference mode, dropout is off\n",
        "    model.eval()\n",
        "    \n",
        "    image = process_image(image_path)\n",
        "    #print(image.size()) >>> torch.Size([3, 244, 244])\n",
        "    image.unsqueeze_(0) \n",
        "    #print(image.size()) >>> torch.Size([1, 3, 244, 244])\n",
        "    \n",
        "    # Move image tensors to the device.\n",
        "    image = image.to(device)\n",
        "    \n",
        "    # Turn off gradients for testing saves memory and computations, so will speed up inference.\n",
        "    with torch.no_grad():\n",
        "        # Forward pass through the network to get the outputs.\n",
        "        prediction = model.forward(image)\n",
        "    # Take exponential to get the probabilities from log softmax output.\n",
        "    ps = torch.exp(prediction)\n",
        "    # The most likely (topk) predicted prbabilities with their indices.\n",
        "    probs, top_k_indices = ps.topk(topk)\n",
        "    \n",
        "    # Extracting the classes from the indices.\n",
        "    classes = []\n",
        "    for indice in top_k_indices.cpu()[0]:\n",
        "        classes.append(list(model.class_to_idx)[indice.numpy()]) # Take the class from the index\n",
        "    \n",
        "    return probs.cpu()[0].numpy(), classes"
      ],
      "execution_count": 0,
      "outputs": []
    },
    {
      "cell_type": "code",
      "metadata": {
        "id": "uy6DWLTDalzI",
        "colab_type": "code",
        "colab": {}
      },
      "source": [
        "def predict_classes_names(cat_to_name, classes_output):\n",
        "    ''' Mapping the category labels to category names, returns the category names.\n",
        "        \n",
        "        Arguments\n",
        "        ---------\n",
        "        cat_to_name: dict, label mapping from category label to category name. \n",
        "        classes_output: list, The most likely (k) predicted classes labels.\n",
        "    '''\n",
        "\n",
        "    # Creating the a list contains the category names from the classes labels.\n",
        "    classes_names = []\n",
        "    for i in classes_output:\n",
        "        classes_names.append(cat_to_name[i])\n",
        "    \n",
        "    return classes_names"
      ],
      "execution_count": 0,
      "outputs": []
    },
    {
      "cell_type": "code",
      "metadata": {
        "colab_type": "code",
        "outputId": "9b1cd213-25f7-49c3-bafa-433533f8a3d6",
        "id": "gqEL_q6fx2gI",
        "colab": {
          "base_uri": "https://localhost:8080/",
          "height": 282
        }
      },
      "source": [
        "image_path = \"/content/images/train/3/10005.jpg\"\n",
        "# Most likely top k predicted classes\n",
        "topk = 3\n",
        "\n",
        "probs, classes = predict(image_path, model, device, topk)\n",
        "\n",
        "classes = predict_classes_names(cat_to_name, classes_output= classes)\n",
        "\n",
        "print(\"Top {} most likely Classes\".format(topk))\n",
        "for i in range(len(probs)):\n",
        "    print(\"Predicted Emotion ({}): {:>20}\\t ... \\tPredicted Class Probability: {:.3f}\".format(i+1, classes[i], probs[i]))\n",
        "print()\n",
        "\n",
        "# load color (BGR) image\n",
        "img = cv2.imread(image_path)\n",
        "# convert BGR image to grayscale\n",
        "gray = cv2.cvtColor(img, cv2.COLOR_BGR2GRAY)\n",
        "# convert BGR image to RGB for plotting\n",
        "cv_rgb = cv2.cvtColor(img, cv2.COLOR_BGR2RGB)\n",
        "# display the image, along with bounding box\n",
        "plt.figure(figsize=(3,6))\n",
        "plt.imshow(cv_rgb)\n",
        "plt.axis('off')\n",
        "plt.show()"
      ],
      "execution_count": 0,
      "outputs": [
        {
          "output_type": "stream",
          "text": [
            "Top 3 most likely Classes\n",
            "Predicted Emotion (1):                happy\t ... \tPredicted Class Probability: 0.850\n",
            "Predicted Emotion (2):              neutral\t ... \tPredicted Class Probability: 0.045\n",
            "Predicted Emotion (3):                angry\t ... \tPredicted Class Probability: 0.038\n",
            "\n"
          ],
          "name": "stdout"
        },
        {
          "output_type": "display_data",
          "data": {
            "image/png": "[encoded data removed]",
            "text/plain": [
              "<Figure size 216x432 with 1 Axes>"
            ]
          },
          "metadata": {
            "tags": [],
            "image/png": {
              "width": 181,
              "height": 181
            }
          }
        }
      ]
    },
    {
      "cell_type": "markdown",
      "metadata": {
        "id": "oDdaCSIg93jY",
        "colab_type": "text"
      },
      "source": [
        "### Method 2: Displaying the image along with the probability of each class"
      ]
    },
    {
      "cell_type": "code",
      "metadata": {
        "id": "IPtcuPrwvtSa",
        "colab_type": "code",
        "colab": {}
      },
      "source": [
        "def view_classify(img, ps):\n",
        "    ''' Function for viewing an image and it's predicted classes.\n",
        "    '''\n",
        "    ps = ps.data.cpu().numpy().squeeze()\n",
        "\n",
        "    fig, (ax1, ax2) = plt.subplots(figsize=(6,9), ncols=2)\n",
        "    ax1.imshow(img.resize_(1, 48, 48).cpu().numpy().squeeze(), cmap='gray')\n",
        "    ax1.axis('off')\n",
        "    ax2.barh(np.arange(7), ps)\n",
        "    ax2.set_aspect(0.1)\n",
        "    ax2.set_yticks(np.arange(7))\n",
        "    \n",
        "    ax2.set_yticklabels(cat_to_name.values(), size='medium');\n",
        "    ax2.set_title('Class Probability')\n",
        "    ax2.set_xlim(0, 1.1)\n",
        "\n",
        "    plt.tight_layout()"
      ],
      "execution_count": 0,
      "outputs": []
    },
    {
      "cell_type": "code",
      "metadata": {
        "id": "hRQ4D6g0vEKd",
        "colab_type": "code",
        "outputId": "a49f1694-89d9-487e-d3a7-6a0fc2070869",
        "colab": {
          "base_uri": "https://localhost:8080/",
          "height": 207
        }
      },
      "source": [
        "# Test out our network!\n",
        "\n",
        "model.eval()\n",
        "\n",
        "dataiter = iter(dataloaders['testloader'])\n",
        "images, labels = dataiter.next()\n",
        "images, labels = images.to(device), labels.to(device)\n",
        "\n",
        "img = images[0].unsqueeze_(0)\n",
        "\n",
        "# Calculate the class probabilities (softmax) for img\n",
        "with torch.no_grad():\n",
        "    output = model.forward(img)\n",
        "\n",
        "ps = torch.exp(output)\n",
        "img = img[:,0,:,:]\n",
        "img = img.view(1, 48, 48)\n",
        "\n",
        "# Plot the image and probabilities\n",
        "view_classify(img.view(1, 48, 48), ps)"
      ],
      "execution_count": 0,
      "outputs": [
        {
          "output_type": "display_data",
          "data": {
            "image/png": "[encoded data removed]",
            "text/plain": [
              "<Figure size 432x648 with 2 Axes>"
            ]
          },
          "metadata": {
            "tags": [],
            "image/png": {
              "width": 424,
              "height": 190
            }
          }
        }
      ]
    }
  ]
}